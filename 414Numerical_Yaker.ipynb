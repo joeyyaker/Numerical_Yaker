#!/usr/bin/env python
# coding: utf-8

# In[1]:


from vpython import *


# In[2]:


scene = canvas(width=700,height=400,range=100,background=color.cyan)
init_pos = vector(0,0,0)

particle = sphere(pos=init_pos,color=color.red, radius=2,make_trail=True)


B_z=0.1
B_y=0
B_x=0
B_field=vector(B_x,B_y,B_z)
q=1
m=1
c=299792548
frame_velocity=0.9
beta=frame_velocity
t_step=0.001
gamma=1/(1.-beta**2)**(1/2)
v0x=0.9
v0y=0
E_y=0


def program():
    vel_rf=vector(v0x,v0y,0)
    frame_vel=vector(frame_velocity,0,0)
    particle_pos=vector(0,0,0)
    vel_mf_x=(v0x-frame_velocity)/(1-(frame_vel.dot(vel_rf))/(c**2))
    vel_mf_y=v0y/(gamma*(1-(frame_vel.dot(vel_rf))/(c**2)))
    velmf= vector(vel_mf_x,vel_mf_y,0)
    pos_mf=particle_pos
    for i in range (0,200000):
        B_prime=vector(0,0,gamma*(B_z))
        E_prime=vector(0,gamma*(E_y-beta*B_z),0)
        acc_rf=(q/m)*(vel_rf.cross(B_field))
        vel_rf=vel_rf+acc_rf*t_step
        particle_pos=particle_pos+vel_rf*t_step
        acc_mf=((q/m)*(velmf.cross(B_prime))+(q/m)*E_prime)/gamma
        dt_prime=gamma*t_step
        velmf = velmf + acc_mf*dt_prime
        pos_mf = pos_mf + velmf*dt_prime - frame_vel*dt_prime
        particle_prime.display = scene2                        
        particle_prime.pos = pos_mf
        particle.display = scene                           
        particle.pos = particle_pos        
        rate(5000)

def plotB():                      
    for i in range(-100,110,10):
        for j in range (-50,60,10): 
        	points(pos =vector(i,j,0),radius=4,display=scene)
            
def plotBp():                                  
    for i in range(-500,501,8):
        for j in range (-50,60,8):  
        	points(pos=vector(i,j,0),radius=1,display=scene2)        
plotB(); 
scene2 = canvas(y=400,width=700,height=400,range=500,
	title="Moving Frame'",background=color.cyan)
particle_prime = sphere(pos=init_pos,color=color.red, radius=2,make_trail=True)
plotBp()                                     
program()                           


# In[ ]:





# In[ ]:




